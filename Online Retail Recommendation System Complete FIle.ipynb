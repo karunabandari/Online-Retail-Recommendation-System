{
 "cells": [
  {
   "cell_type": "markdown",
   "id": "631898ab-228b-4460-a884-963599438841",
   "metadata": {},
   "source": [
    "**Loading and analyzing the dataset for better result**"
   ]
  },
  {
   "cell_type": "code",
   "execution_count": 1,
   "id": "14acce2c-c6bf-4e99-857d-c65fb50ba8c0",
   "metadata": {},
   "outputs": [],
   "source": [
    "#Step 1: Importing necessary libraries\n",
    "import pandas as pd"
   ]
  },
  {
   "cell_type": "code",
   "execution_count": 2,
   "id": "fd8dc1da-2540-4292-80b3-7047223d4790",
   "metadata": {},
   "outputs": [],
   "source": [
    "#Step 2: Load the dataset into jupyter notebook\n",
    "data = pd.read_csv('OnlineRetail.csv')"
   ]
  },
  {
   "cell_type": "code",
   "execution_count": 3,
   "id": "c3332182-2d3d-4ed3-9b69-bfac5de2d3f5",
   "metadata": {},
   "outputs": [
    {
     "data": {
      "text/html": [
       "<div>\n",
       "<style scoped>\n",
       "    .dataframe tbody tr th:only-of-type {\n",
       "        vertical-align: middle;\n",
       "    }\n",
       "\n",
       "    .dataframe tbody tr th {\n",
       "        vertical-align: top;\n",
       "    }\n",
       "\n",
       "    .dataframe thead th {\n",
       "        text-align: right;\n",
       "    }\n",
       "</style>\n",
       "<table border=\"1\" class=\"dataframe\">\n",
       "  <thead>\n",
       "    <tr style=\"text-align: right;\">\n",
       "      <th></th>\n",
       "      <th>InvoiceNo</th>\n",
       "      <th>StockCode</th>\n",
       "      <th>Description</th>\n",
       "      <th>Quantity</th>\n",
       "      <th>InvoiceDate</th>\n",
       "      <th>UnitPrice</th>\n",
       "      <th>CustomerID</th>\n",
       "      <th>Country</th>\n",
       "    </tr>\n",
       "  </thead>\n",
       "  <tbody>\n",
       "    <tr>\n",
       "      <th>0</th>\n",
       "      <td>536365</td>\n",
       "      <td>85123A</td>\n",
       "      <td>WHITE HANGING HEART T-LIGHT HOLDER</td>\n",
       "      <td>6</td>\n",
       "      <td>12-1-2010 8:26</td>\n",
       "      <td>2.55</td>\n",
       "      <td>17850.0</td>\n",
       "      <td>United Kingdom</td>\n",
       "    </tr>\n",
       "    <tr>\n",
       "      <th>1</th>\n",
       "      <td>536365</td>\n",
       "      <td>71053</td>\n",
       "      <td>WHITE METAL LANTERN</td>\n",
       "      <td>6</td>\n",
       "      <td>12-1-2010 8:26</td>\n",
       "      <td>3.39</td>\n",
       "      <td>17850.0</td>\n",
       "      <td>United Kingdom</td>\n",
       "    </tr>\n",
       "    <tr>\n",
       "      <th>2</th>\n",
       "      <td>536365</td>\n",
       "      <td>84406B</td>\n",
       "      <td>CREAM CUPID HEARTS COAT HANGER</td>\n",
       "      <td>8</td>\n",
       "      <td>12-1-2010 8:26</td>\n",
       "      <td>2.75</td>\n",
       "      <td>17850.0</td>\n",
       "      <td>United Kingdom</td>\n",
       "    </tr>\n",
       "    <tr>\n",
       "      <th>3</th>\n",
       "      <td>536365</td>\n",
       "      <td>84029G</td>\n",
       "      <td>KNITTED UNION FLAG HOT WATER BOTTLE</td>\n",
       "      <td>6</td>\n",
       "      <td>12-1-2010 8:26</td>\n",
       "      <td>3.39</td>\n",
       "      <td>17850.0</td>\n",
       "      <td>United Kingdom</td>\n",
       "    </tr>\n",
       "    <tr>\n",
       "      <th>4</th>\n",
       "      <td>536365</td>\n",
       "      <td>84029E</td>\n",
       "      <td>RED WOOLLY HOTTIE WHITE HEART.</td>\n",
       "      <td>6</td>\n",
       "      <td>12-1-2010 8:26</td>\n",
       "      <td>3.39</td>\n",
       "      <td>17850.0</td>\n",
       "      <td>United Kingdom</td>\n",
       "    </tr>\n",
       "    <tr>\n",
       "      <th>5</th>\n",
       "      <td>536365</td>\n",
       "      <td>22752</td>\n",
       "      <td>SET 7 BABUSHKA NESTING BOXES</td>\n",
       "      <td>2</td>\n",
       "      <td>12-1-2010 8:26</td>\n",
       "      <td>7.65</td>\n",
       "      <td>17850.0</td>\n",
       "      <td>United Kingdom</td>\n",
       "    </tr>\n",
       "    <tr>\n",
       "      <th>6</th>\n",
       "      <td>536365</td>\n",
       "      <td>21730</td>\n",
       "      <td>GLASS STAR FROSTED T-LIGHT HOLDER</td>\n",
       "      <td>6</td>\n",
       "      <td>12-1-2010 8:26</td>\n",
       "      <td>4.25</td>\n",
       "      <td>17850.0</td>\n",
       "      <td>United Kingdom</td>\n",
       "    </tr>\n",
       "    <tr>\n",
       "      <th>7</th>\n",
       "      <td>536366</td>\n",
       "      <td>22633</td>\n",
       "      <td>HAND WARMER UNION JACK</td>\n",
       "      <td>6</td>\n",
       "      <td>12-1-2010 8:28</td>\n",
       "      <td>1.85</td>\n",
       "      <td>17850.0</td>\n",
       "      <td>United Kingdom</td>\n",
       "    </tr>\n",
       "    <tr>\n",
       "      <th>8</th>\n",
       "      <td>536366</td>\n",
       "      <td>22632</td>\n",
       "      <td>HAND WARMER RED POLKA DOT</td>\n",
       "      <td>6</td>\n",
       "      <td>12-1-2010 8:28</td>\n",
       "      <td>1.85</td>\n",
       "      <td>17850.0</td>\n",
       "      <td>United Kingdom</td>\n",
       "    </tr>\n",
       "    <tr>\n",
       "      <th>9</th>\n",
       "      <td>536367</td>\n",
       "      <td>84879</td>\n",
       "      <td>ASSORTED COLOUR BIRD ORNAMENT</td>\n",
       "      <td>32</td>\n",
       "      <td>12-1-2010 8:34</td>\n",
       "      <td>1.69</td>\n",
       "      <td>13047.0</td>\n",
       "      <td>United Kingdom</td>\n",
       "    </tr>\n",
       "  </tbody>\n",
       "</table>\n",
       "</div>"
      ],
      "text/plain": [
       "  InvoiceNo StockCode                          Description  Quantity  \\\n",
       "0    536365    85123A   WHITE HANGING HEART T-LIGHT HOLDER         6   \n",
       "1    536365     71053                  WHITE METAL LANTERN         6   \n",
       "2    536365    84406B       CREAM CUPID HEARTS COAT HANGER         8   \n",
       "3    536365    84029G  KNITTED UNION FLAG HOT WATER BOTTLE         6   \n",
       "4    536365    84029E       RED WOOLLY HOTTIE WHITE HEART.         6   \n",
       "5    536365     22752         SET 7 BABUSHKA NESTING BOXES         2   \n",
       "6    536365     21730    GLASS STAR FROSTED T-LIGHT HOLDER         6   \n",
       "7    536366     22633               HAND WARMER UNION JACK         6   \n",
       "8    536366     22632            HAND WARMER RED POLKA DOT         6   \n",
       "9    536367     84879        ASSORTED COLOUR BIRD ORNAMENT        32   \n",
       "\n",
       "      InvoiceDate  UnitPrice  CustomerID         Country  \n",
       "0  12-1-2010 8:26       2.55     17850.0  United Kingdom  \n",
       "1  12-1-2010 8:26       3.39     17850.0  United Kingdom  \n",
       "2  12-1-2010 8:26       2.75     17850.0  United Kingdom  \n",
       "3  12-1-2010 8:26       3.39     17850.0  United Kingdom  \n",
       "4  12-1-2010 8:26       3.39     17850.0  United Kingdom  \n",
       "5  12-1-2010 8:26       7.65     17850.0  United Kingdom  \n",
       "6  12-1-2010 8:26       4.25     17850.0  United Kingdom  \n",
       "7  12-1-2010 8:28       1.85     17850.0  United Kingdom  \n",
       "8  12-1-2010 8:28       1.85     17850.0  United Kingdom  \n",
       "9  12-1-2010 8:34       1.69     13047.0  United Kingdom  "
      ]
     },
     "execution_count": 3,
     "metadata": {},
     "output_type": "execute_result"
    }
   ],
   "source": [
    "#Step 3: Viewing 10 rows of data\n",
    "data.head(10)"
   ]
  },
  {
   "cell_type": "code",
   "execution_count": 4,
   "id": "dfc282f3-6996-4397-bd5c-7c38197fddd5",
   "metadata": {},
   "outputs": [
    {
     "name": "stdout",
     "output_type": "stream",
     "text": [
      "<class 'pandas.core.frame.DataFrame'>\n",
      "RangeIndex: 541909 entries, 0 to 541908\n",
      "Data columns (total 8 columns):\n",
      " #   Column       Non-Null Count   Dtype  \n",
      "---  ------       --------------   -----  \n",
      " 0   InvoiceNo    541909 non-null  object \n",
      " 1   StockCode    541909 non-null  object \n",
      " 2   Description  540455 non-null  object \n",
      " 3   Quantity     541909 non-null  int64  \n",
      " 4   InvoiceDate  541909 non-null  object \n",
      " 5   UnitPrice    541909 non-null  float64\n",
      " 6   CustomerID   406829 non-null  float64\n",
      " 7   Country      541909 non-null  object \n",
      "dtypes: float64(2), int64(1), object(5)\n",
      "memory usage: 33.1+ MB\n"
     ]
    }
   ],
   "source": [
    "#Step 4: getting the dataset information and the total count\n",
    "data.info()"
   ]
  },
  {
   "cell_type": "code",
   "execution_count": 5,
   "id": "5660b062-2aba-4788-a8ac-a3b4ba3f652d",
   "metadata": {},
   "outputs": [
    {
     "data": {
      "text/plain": [
       "InvoiceNo           0\n",
       "StockCode           0\n",
       "Description      1454\n",
       "Quantity            0\n",
       "InvoiceDate         0\n",
       "UnitPrice           0\n",
       "CustomerID     135080\n",
       "Country             0\n",
       "dtype: int64"
      ]
     },
     "execution_count": 5,
     "metadata": {},
     "output_type": "execute_result"
    }
   ],
   "source": [
    "#Step 5: Checking for empty columns in dataset\n",
    "data.isnull().sum()"
   ]
  },
  {
   "cell_type": "code",
   "execution_count": 6,
   "id": "74e62bfd-4ddc-42b6-b06d-155ba7a7dbde",
   "metadata": {},
   "outputs": [],
   "source": [
    "#Step 6: Dropping the empty columns in dataset\n",
    "data.dropna(inplace=True)"
   ]
  },
  {
   "cell_type": "code",
   "execution_count": 7,
   "id": "f9d78982-9174-406d-bfd8-3b5a8bccab91",
   "metadata": {},
   "outputs": [],
   "source": [
    "#Step 7: Dropping the duplicates values from dataset\n",
    "data.drop_duplicates(inplace=True)"
   ]
  },
  {
   "cell_type": "code",
   "execution_count": 8,
   "id": "fd8e1aa3-c62b-440c-ae96-54df4644651a",
   "metadata": {},
   "outputs": [
    {
     "name": "stdout",
     "output_type": "stream",
     "text": [
      "<class 'pandas.core.frame.DataFrame'>\n",
      "Index: 401604 entries, 0 to 541908\n",
      "Data columns (total 8 columns):\n",
      " #   Column       Non-Null Count   Dtype  \n",
      "---  ------       --------------   -----  \n",
      " 0   InvoiceNo    401604 non-null  object \n",
      " 1   StockCode    401604 non-null  object \n",
      " 2   Description  401604 non-null  object \n",
      " 3   Quantity     401604 non-null  int64  \n",
      " 4   InvoiceDate  401604 non-null  object \n",
      " 5   UnitPrice    401604 non-null  float64\n",
      " 6   CustomerID   401604 non-null  float64\n",
      " 7   Country      401604 non-null  object \n",
      "dtypes: float64(2), int64(1), object(5)\n",
      "memory usage: 27.6+ MB\n"
     ]
    }
   ],
   "source": [
    "data.info()"
   ]
  },
  {
   "cell_type": "code",
   "execution_count": 9,
   "id": "25bf5877-9c78-4236-b762-b55290775918",
   "metadata": {},
   "outputs": [
    {
     "name": "stdout",
     "output_type": "stream",
     "text": [
      "Number of unique products : 3684\n",
      "Number of unique customers : 4372\n"
     ]
    }
   ],
   "source": [
    "#Step 8: displaying the unique product and customer count\n",
    "\n",
    "#Here we use \"stock code\" for unique products and \"CustomerID\" for unique customers.\n",
    "print(f'Number of unique products : {data['StockCode'].nunique()}')\n",
    "print(f'Number of unique customers : {data['CustomerID'].nunique()}')"
   ]
  },
  {
   "cell_type": "code",
   "execution_count": 10,
   "id": "2cf2e997-ce1c-4afc-a188-3688a1cff060",
   "metadata": {},
   "outputs": [
    {
     "name": "stdout",
     "output_type": "stream",
     "text": [
      "Description\n",
      "WHITE HANGING HEART T-LIGHT HOLDER    2058\n",
      "REGENCY CAKESTAND 3 TIER              1894\n",
      "JUMBO BAG RED RETROSPOT               1659\n",
      "PARTY BUNTING                         1409\n",
      "ASSORTED COLOUR BIRD ORNAMENT         1405\n",
      "LUNCH BAG RED RETROSPOT               1345\n",
      "SET OF 3 CAKE TINS PANTRY DESIGN      1224\n",
      "POSTAGE                               1196\n",
      "LUNCH BAG  BLACK SKULL.               1099\n",
      "PACK OF 72 RETROSPOT CAKE CASES       1062\n",
      "Name: count, dtype: int64\n"
     ]
    }
   ],
   "source": [
    "#Displaying the top 10 products from the dataset\n",
    "top_products = data['Description'].value_counts().head(10)\n",
    "print (top_products)"
   ]
  },
  {
   "cell_type": "markdown",
   "id": "e1383ec6-6568-43cb-a303-e5d46eeaa26a",
   "metadata": {},
   "source": [
    "**Lets visualize using plot for better analyzing**"
   ]
  },
  {
   "cell_type": "code",
   "execution_count": 11,
   "id": "254c3c67-9240-4f4f-aef4-bb645cd3cedc",
   "metadata": {},
   "outputs": [],
   "source": [
    "#Step 1: importing necessary library\n",
    "import seaborn as sns  \n",
    "import matplotlib.pyplot as plt"
   ]
  },
  {
   "cell_type": "code",
   "execution_count": 12,
   "id": "1f8ccd2e-673b-4870-86e0-ec657ce15374",
   "metadata": {},
   "outputs": [
    {
     "data": {
      "text/html": [
       "<div>\n",
       "<style scoped>\n",
       "    .dataframe tbody tr th:only-of-type {\n",
       "        vertical-align: middle;\n",
       "    }\n",
       "\n",
       "    .dataframe tbody tr th {\n",
       "        vertical-align: top;\n",
       "    }\n",
       "\n",
       "    .dataframe thead th {\n",
       "        text-align: right;\n",
       "    }\n",
       "</style>\n",
       "<table border=\"1\" class=\"dataframe\">\n",
       "  <thead>\n",
       "    <tr style=\"text-align: right;\">\n",
       "      <th>Description</th>\n",
       "      <th>10 COLOUR SPACEBOY PEN</th>\n",
       "      <th>12 COLOURED PARTY BALLOONS</th>\n",
       "      <th>12 DAISY PEGS IN WOOD BOX</th>\n",
       "      <th>12 EGG HOUSE PAINTED WOOD</th>\n",
       "      <th>12 HANGING EGGS HAND PAINTED</th>\n",
       "      <th>12 IVORY ROSE PEG PLACE SETTINGS</th>\n",
       "      <th>12 MESSAGE CARDS WITH ENVELOPES</th>\n",
       "      <th>12 PENCIL SMALL TUBE WOODLAND</th>\n",
       "      <th>12 PENCILS SMALL TUBE RED RETROSPOT</th>\n",
       "      <th>12 PENCILS SMALL TUBE SKULL</th>\n",
       "      <th>...</th>\n",
       "      <th>ZINC STAR T-LIGHT HOLDER</th>\n",
       "      <th>ZINC SWEETHEART SOAP DISH</th>\n",
       "      <th>ZINC SWEETHEART WIRE LETTER RACK</th>\n",
       "      <th>ZINC T-LIGHT HOLDER STAR LARGE</th>\n",
       "      <th>ZINC T-LIGHT HOLDER STARS LARGE</th>\n",
       "      <th>ZINC T-LIGHT HOLDER STARS SMALL</th>\n",
       "      <th>ZINC TOP  2 DOOR WOODEN SHELF</th>\n",
       "      <th>ZINC WILLIE WINKIE  CANDLE STICK</th>\n",
       "      <th>ZINC WIRE KITCHEN ORGANISER</th>\n",
       "      <th>ZINC WIRE SWEETHEART LETTER TRAY</th>\n",
       "    </tr>\n",
       "    <tr>\n",
       "      <th>CustomerID</th>\n",
       "      <th></th>\n",
       "      <th></th>\n",
       "      <th></th>\n",
       "      <th></th>\n",
       "      <th></th>\n",
       "      <th></th>\n",
       "      <th></th>\n",
       "      <th></th>\n",
       "      <th></th>\n",
       "      <th></th>\n",
       "      <th></th>\n",
       "      <th></th>\n",
       "      <th></th>\n",
       "      <th></th>\n",
       "      <th></th>\n",
       "      <th></th>\n",
       "      <th></th>\n",
       "      <th></th>\n",
       "      <th></th>\n",
       "      <th></th>\n",
       "      <th></th>\n",
       "    </tr>\n",
       "  </thead>\n",
       "  <tbody>\n",
       "    <tr>\n",
       "      <th>12346.0</th>\n",
       "      <td>0</td>\n",
       "      <td>0</td>\n",
       "      <td>0</td>\n",
       "      <td>0</td>\n",
       "      <td>0</td>\n",
       "      <td>0</td>\n",
       "      <td>0</td>\n",
       "      <td>0</td>\n",
       "      <td>0</td>\n",
       "      <td>0</td>\n",
       "      <td>...</td>\n",
       "      <td>0</td>\n",
       "      <td>0</td>\n",
       "      <td>0</td>\n",
       "      <td>0</td>\n",
       "      <td>0</td>\n",
       "      <td>0</td>\n",
       "      <td>0</td>\n",
       "      <td>0</td>\n",
       "      <td>0</td>\n",
       "      <td>0</td>\n",
       "    </tr>\n",
       "    <tr>\n",
       "      <th>12347.0</th>\n",
       "      <td>0</td>\n",
       "      <td>0</td>\n",
       "      <td>0</td>\n",
       "      <td>0</td>\n",
       "      <td>0</td>\n",
       "      <td>0</td>\n",
       "      <td>0</td>\n",
       "      <td>0</td>\n",
       "      <td>0</td>\n",
       "      <td>0</td>\n",
       "      <td>...</td>\n",
       "      <td>0</td>\n",
       "      <td>0</td>\n",
       "      <td>0</td>\n",
       "      <td>0</td>\n",
       "      <td>0</td>\n",
       "      <td>0</td>\n",
       "      <td>0</td>\n",
       "      <td>0</td>\n",
       "      <td>0</td>\n",
       "      <td>0</td>\n",
       "    </tr>\n",
       "    <tr>\n",
       "      <th>12348.0</th>\n",
       "      <td>0</td>\n",
       "      <td>0</td>\n",
       "      <td>0</td>\n",
       "      <td>0</td>\n",
       "      <td>0</td>\n",
       "      <td>0</td>\n",
       "      <td>0</td>\n",
       "      <td>0</td>\n",
       "      <td>0</td>\n",
       "      <td>0</td>\n",
       "      <td>...</td>\n",
       "      <td>0</td>\n",
       "      <td>0</td>\n",
       "      <td>0</td>\n",
       "      <td>0</td>\n",
       "      <td>0</td>\n",
       "      <td>0</td>\n",
       "      <td>0</td>\n",
       "      <td>0</td>\n",
       "      <td>0</td>\n",
       "      <td>0</td>\n",
       "    </tr>\n",
       "    <tr>\n",
       "      <th>12349.0</th>\n",
       "      <td>0</td>\n",
       "      <td>0</td>\n",
       "      <td>0</td>\n",
       "      <td>0</td>\n",
       "      <td>0</td>\n",
       "      <td>0</td>\n",
       "      <td>0</td>\n",
       "      <td>0</td>\n",
       "      <td>0</td>\n",
       "      <td>0</td>\n",
       "      <td>...</td>\n",
       "      <td>0</td>\n",
       "      <td>0</td>\n",
       "      <td>0</td>\n",
       "      <td>0</td>\n",
       "      <td>0</td>\n",
       "      <td>0</td>\n",
       "      <td>0</td>\n",
       "      <td>0</td>\n",
       "      <td>0</td>\n",
       "      <td>0</td>\n",
       "    </tr>\n",
       "    <tr>\n",
       "      <th>12350.0</th>\n",
       "      <td>0</td>\n",
       "      <td>0</td>\n",
       "      <td>0</td>\n",
       "      <td>0</td>\n",
       "      <td>0</td>\n",
       "      <td>0</td>\n",
       "      <td>0</td>\n",
       "      <td>0</td>\n",
       "      <td>0</td>\n",
       "      <td>0</td>\n",
       "      <td>...</td>\n",
       "      <td>0</td>\n",
       "      <td>0</td>\n",
       "      <td>0</td>\n",
       "      <td>0</td>\n",
       "      <td>0</td>\n",
       "      <td>0</td>\n",
       "      <td>0</td>\n",
       "      <td>0</td>\n",
       "      <td>0</td>\n",
       "      <td>0</td>\n",
       "    </tr>\n",
       "    <tr>\n",
       "      <th>...</th>\n",
       "      <td>...</td>\n",
       "      <td>...</td>\n",
       "      <td>...</td>\n",
       "      <td>...</td>\n",
       "      <td>...</td>\n",
       "      <td>...</td>\n",
       "      <td>...</td>\n",
       "      <td>...</td>\n",
       "      <td>...</td>\n",
       "      <td>...</td>\n",
       "      <td>...</td>\n",
       "      <td>...</td>\n",
       "      <td>...</td>\n",
       "      <td>...</td>\n",
       "      <td>...</td>\n",
       "      <td>...</td>\n",
       "      <td>...</td>\n",
       "      <td>...</td>\n",
       "      <td>...</td>\n",
       "      <td>...</td>\n",
       "      <td>...</td>\n",
       "    </tr>\n",
       "    <tr>\n",
       "      <th>18280.0</th>\n",
       "      <td>0</td>\n",
       "      <td>0</td>\n",
       "      <td>0</td>\n",
       "      <td>0</td>\n",
       "      <td>0</td>\n",
       "      <td>0</td>\n",
       "      <td>0</td>\n",
       "      <td>0</td>\n",
       "      <td>0</td>\n",
       "      <td>0</td>\n",
       "      <td>...</td>\n",
       "      <td>0</td>\n",
       "      <td>0</td>\n",
       "      <td>0</td>\n",
       "      <td>0</td>\n",
       "      <td>0</td>\n",
       "      <td>0</td>\n",
       "      <td>0</td>\n",
       "      <td>0</td>\n",
       "      <td>0</td>\n",
       "      <td>0</td>\n",
       "    </tr>\n",
       "    <tr>\n",
       "      <th>18281.0</th>\n",
       "      <td>0</td>\n",
       "      <td>0</td>\n",
       "      <td>0</td>\n",
       "      <td>0</td>\n",
       "      <td>0</td>\n",
       "      <td>0</td>\n",
       "      <td>0</td>\n",
       "      <td>0</td>\n",
       "      <td>0</td>\n",
       "      <td>0</td>\n",
       "      <td>...</td>\n",
       "      <td>0</td>\n",
       "      <td>0</td>\n",
       "      <td>0</td>\n",
       "      <td>0</td>\n",
       "      <td>0</td>\n",
       "      <td>0</td>\n",
       "      <td>0</td>\n",
       "      <td>0</td>\n",
       "      <td>0</td>\n",
       "      <td>0</td>\n",
       "    </tr>\n",
       "    <tr>\n",
       "      <th>18282.0</th>\n",
       "      <td>0</td>\n",
       "      <td>0</td>\n",
       "      <td>0</td>\n",
       "      <td>0</td>\n",
       "      <td>0</td>\n",
       "      <td>0</td>\n",
       "      <td>0</td>\n",
       "      <td>0</td>\n",
       "      <td>0</td>\n",
       "      <td>0</td>\n",
       "      <td>...</td>\n",
       "      <td>0</td>\n",
       "      <td>0</td>\n",
       "      <td>0</td>\n",
       "      <td>0</td>\n",
       "      <td>0</td>\n",
       "      <td>0</td>\n",
       "      <td>0</td>\n",
       "      <td>0</td>\n",
       "      <td>0</td>\n",
       "      <td>0</td>\n",
       "    </tr>\n",
       "    <tr>\n",
       "      <th>18283.0</th>\n",
       "      <td>46</td>\n",
       "      <td>0</td>\n",
       "      <td>0</td>\n",
       "      <td>0</td>\n",
       "      <td>0</td>\n",
       "      <td>0</td>\n",
       "      <td>0</td>\n",
       "      <td>1</td>\n",
       "      <td>0</td>\n",
       "      <td>1</td>\n",
       "      <td>...</td>\n",
       "      <td>0</td>\n",
       "      <td>0</td>\n",
       "      <td>0</td>\n",
       "      <td>0</td>\n",
       "      <td>0</td>\n",
       "      <td>0</td>\n",
       "      <td>0</td>\n",
       "      <td>0</td>\n",
       "      <td>0</td>\n",
       "      <td>0</td>\n",
       "    </tr>\n",
       "    <tr>\n",
       "      <th>18287.0</th>\n",
       "      <td>0</td>\n",
       "      <td>0</td>\n",
       "      <td>0</td>\n",
       "      <td>0</td>\n",
       "      <td>0</td>\n",
       "      <td>0</td>\n",
       "      <td>0</td>\n",
       "      <td>0</td>\n",
       "      <td>0</td>\n",
       "      <td>0</td>\n",
       "      <td>...</td>\n",
       "      <td>0</td>\n",
       "      <td>0</td>\n",
       "      <td>0</td>\n",
       "      <td>0</td>\n",
       "      <td>0</td>\n",
       "      <td>0</td>\n",
       "      <td>0</td>\n",
       "      <td>0</td>\n",
       "      <td>0</td>\n",
       "      <td>0</td>\n",
       "    </tr>\n",
       "  </tbody>\n",
       "</table>\n",
       "<p>4372 rows × 3885 columns</p>\n",
       "</div>"
      ],
      "text/plain": [
       "Description  10 COLOUR SPACEBOY PEN  12 COLOURED PARTY BALLOONS  \\\n",
       "CustomerID                                                        \n",
       "12346.0                           0                           0   \n",
       "12347.0                           0                           0   \n",
       "12348.0                           0                           0   \n",
       "12349.0                           0                           0   \n",
       "12350.0                           0                           0   \n",
       "...                             ...                         ...   \n",
       "18280.0                           0                           0   \n",
       "18281.0                           0                           0   \n",
       "18282.0                           0                           0   \n",
       "18283.0                          46                           0   \n",
       "18287.0                           0                           0   \n",
       "\n",
       "Description  12 DAISY PEGS IN WOOD BOX  12 EGG HOUSE PAINTED WOOD  \\\n",
       "CustomerID                                                          \n",
       "12346.0                              0                          0   \n",
       "12347.0                              0                          0   \n",
       "12348.0                              0                          0   \n",
       "12349.0                              0                          0   \n",
       "12350.0                              0                          0   \n",
       "...                                ...                        ...   \n",
       "18280.0                              0                          0   \n",
       "18281.0                              0                          0   \n",
       "18282.0                              0                          0   \n",
       "18283.0                              0                          0   \n",
       "18287.0                              0                          0   \n",
       "\n",
       "Description  12 HANGING EGGS HAND PAINTED  12 IVORY ROSE PEG PLACE SETTINGS  \\\n",
       "CustomerID                                                                    \n",
       "12346.0                                 0                                 0   \n",
       "12347.0                                 0                                 0   \n",
       "12348.0                                 0                                 0   \n",
       "12349.0                                 0                                 0   \n",
       "12350.0                                 0                                 0   \n",
       "...                                   ...                               ...   \n",
       "18280.0                                 0                                 0   \n",
       "18281.0                                 0                                 0   \n",
       "18282.0                                 0                                 0   \n",
       "18283.0                                 0                                 0   \n",
       "18287.0                                 0                                 0   \n",
       "\n",
       "Description  12 MESSAGE CARDS WITH ENVELOPES  12 PENCIL SMALL TUBE WOODLAND  \\\n",
       "CustomerID                                                                    \n",
       "12346.0                                    0                              0   \n",
       "12347.0                                    0                              0   \n",
       "12348.0                                    0                              0   \n",
       "12349.0                                    0                              0   \n",
       "12350.0                                    0                              0   \n",
       "...                                      ...                            ...   \n",
       "18280.0                                    0                              0   \n",
       "18281.0                                    0                              0   \n",
       "18282.0                                    0                              0   \n",
       "18283.0                                    0                              1   \n",
       "18287.0                                    0                              0   \n",
       "\n",
       "Description  12 PENCILS SMALL TUBE RED RETROSPOT  12 PENCILS SMALL TUBE SKULL  \\\n",
       "CustomerID                                                                      \n",
       "12346.0                                        0                            0   \n",
       "12347.0                                        0                            0   \n",
       "12348.0                                        0                            0   \n",
       "12349.0                                        0                            0   \n",
       "12350.0                                        0                            0   \n",
       "...                                          ...                          ...   \n",
       "18280.0                                        0                            0   \n",
       "18281.0                                        0                            0   \n",
       "18282.0                                        0                            0   \n",
       "18283.0                                        0                            1   \n",
       "18287.0                                        0                            0   \n",
       "\n",
       "Description  ...  ZINC STAR T-LIGHT HOLDER  ZINC SWEETHEART SOAP DISH  \\\n",
       "CustomerID   ...                                                        \n",
       "12346.0      ...                         0                          0   \n",
       "12347.0      ...                         0                          0   \n",
       "12348.0      ...                         0                          0   \n",
       "12349.0      ...                         0                          0   \n",
       "12350.0      ...                         0                          0   \n",
       "...          ...                       ...                        ...   \n",
       "18280.0      ...                         0                          0   \n",
       "18281.0      ...                         0                          0   \n",
       "18282.0      ...                         0                          0   \n",
       "18283.0      ...                         0                          0   \n",
       "18287.0      ...                         0                          0   \n",
       "\n",
       "Description  ZINC SWEETHEART WIRE LETTER RACK  ZINC T-LIGHT HOLDER STAR LARGE  \\\n",
       "CustomerID                                                                      \n",
       "12346.0                                     0                               0   \n",
       "12347.0                                     0                               0   \n",
       "12348.0                                     0                               0   \n",
       "12349.0                                     0                               0   \n",
       "12350.0                                     0                               0   \n",
       "...                                       ...                             ...   \n",
       "18280.0                                     0                               0   \n",
       "18281.0                                     0                               0   \n",
       "18282.0                                     0                               0   \n",
       "18283.0                                     0                               0   \n",
       "18287.0                                     0                               0   \n",
       "\n",
       "Description  ZINC T-LIGHT HOLDER STARS LARGE  ZINC T-LIGHT HOLDER STARS SMALL  \\\n",
       "CustomerID                                                                      \n",
       "12346.0                                    0                                0   \n",
       "12347.0                                    0                                0   \n",
       "12348.0                                    0                                0   \n",
       "12349.0                                    0                                0   \n",
       "12350.0                                    0                                0   \n",
       "...                                      ...                              ...   \n",
       "18280.0                                    0                                0   \n",
       "18281.0                                    0                                0   \n",
       "18282.0                                    0                                0   \n",
       "18283.0                                    0                                0   \n",
       "18287.0                                    0                                0   \n",
       "\n",
       "Description  ZINC TOP  2 DOOR WOODEN SHELF  ZINC WILLIE WINKIE  CANDLE STICK  \\\n",
       "CustomerID                                                                     \n",
       "12346.0                                  0                                 0   \n",
       "12347.0                                  0                                 0   \n",
       "12348.0                                  0                                 0   \n",
       "12349.0                                  0                                 0   \n",
       "12350.0                                  0                                 0   \n",
       "...                                    ...                               ...   \n",
       "18280.0                                  0                                 0   \n",
       "18281.0                                  0                                 0   \n",
       "18282.0                                  0                                 0   \n",
       "18283.0                                  0                                 0   \n",
       "18287.0                                  0                                 0   \n",
       "\n",
       "Description  ZINC WIRE KITCHEN ORGANISER  ZINC WIRE SWEETHEART LETTER TRAY  \n",
       "CustomerID                                                                  \n",
       "12346.0                                0                                 0  \n",
       "12347.0                                0                                 0  \n",
       "12348.0                                0                                 0  \n",
       "12349.0                                0                                 0  \n",
       "12350.0                                0                                 0  \n",
       "...                                  ...                               ...  \n",
       "18280.0                                0                                 0  \n",
       "18281.0                                0                                 0  \n",
       "18282.0                                0                                 0  \n",
       "18283.0                                0                                 0  \n",
       "18287.0                                0                                 0  \n",
       "\n",
       "[4372 rows x 3885 columns]"
      ]
     },
     "metadata": {},
     "output_type": "display_data"
    }
   ],
   "source": [
    "#Step 2: Creating and displaying the pivot table to find the total quantity of each product bought by each customer\n",
    "total_product_quantity = data.pivot_table(\n",
    "    index = 'CustomerID',\n",
    "    columns = 'Description',\n",
    "    values = 'Quantity',\n",
    "    aggfunc = 'sum',\n",
    "    fill_value = 0\n",
    ")\n",
    "display(total_product_quantity)"
   ]
  },
  {
   "cell_type": "code",
   "execution_count": 83,
   "id": "83437207-b7de-4224-806b-bd000437c4e0",
   "metadata": {},
   "outputs": [
    {
     "data": {
      "image/png": "[encoded data removed]",
      "text/plain": [
       "<Figure size 1000x600 with 1 Axes>"
      ]
     },
     "metadata": {},
     "output_type": "display_data"
    }
   ],
   "source": [
    "#Plot the distribution of the number of products bought by each customer using histogram\n",
    "\n",
    "plt.figure(figsize=(10, 6))\n",
    "sns.histplot(data=total_product_quantity.sum(axis=1), kde=True)\n",
    "plt.title('Distribution of the Number of Products Bought by Each Customer')\n",
    "plt.xlabel('Number of Products')\n",
    "plt.ylabel('Frequency')\n",
    "plt.show()"
   ]
  },
  {
   "cell_type": "code",
   "execution_count": 85,
   "id": "45592f10-f360-4d9e-89fc-25b8af997205",
   "metadata": {},
   "outputs": [
    {
     "name": "stdout",
     "output_type": "stream",
     "text": [
      "Globally Popular Products:\n",
      "Description\n",
      "WHITE HANGING HEART T-LIGHT HOLDER    2058\n",
      "REGENCY CAKESTAND 3 TIER              1894\n",
      "JUMBO BAG RED RETROSPOT               1659\n",
      "PARTY BUNTING                         1409\n",
      "ASSORTED COLOUR BIRD ORNAMENT         1405\n",
      "LUNCH BAG RED RETROSPOT               1345\n",
      "SET OF 3 CAKE TINS PANTRY DESIGN      1224\n",
      "POSTAGE                               1196\n",
      "LUNCH BAG  BLACK SKULL.               1099\n",
      "PACK OF 72 RETROSPOT CAKE CASES       1062\n",
      "Name: count, dtype: int64\n"
     ]
    }
   ],
   "source": [
    "#Step 3: Identifying Globally Popular Products\n",
    "globally_popular_products = data['Description'].value_counts().head(10)\n",
    "print(\"Globally Popular Products:\")\n",
    "print(globally_popular_products)"
   ]
  },
  {
   "cell_type": "code",
   "execution_count": 87,
   "id": "3b2f2d51-756e-4414-b88b-ff2528ece2fc",
   "metadata": {},
   "outputs": [
    {
     "data": {
      "image/png": "[encoded data removed]",
      "text/plain": [
       "<Figure size 1000x600 with 1 Axes>"
      ]
     },
     "metadata": {},
     "output_type": "display_data"
    }
   ],
   "source": [
    "#Plotting globally popular products\n",
    "plt.figure(figsize=(10, 6))\n",
    "sns.barplot(x=globally_popular_products.values, y=globally_popular_products.index)\n",
    "plt.title('Top 10 Globally Popular Products')\n",
    "plt.xlabel('Quantity Sold')\n",
    "plt.ylabel('Product Description')\n",
    "plt.show()"
   ]
  },
  {
   "cell_type": "code",
   "execution_count": 89,
   "id": "9b7d6f5a-ac42-4320-86ab-6b6b9d5d4861",
   "metadata": {},
   "outputs": [
    {
     "name": "stdout",
     "output_type": "stream",
     "text": [
      "Country-wise Popular Products:\n",
      "      Country                         Description  count\n",
      "0   Australia    SET OF 3 CAKE TINS PANTRY DESIGN     10\n",
      "1   Australia             LUNCH BAG RED RETROSPOT      9\n",
      "2   Australia       RED TOADSTOOL LED NIGHT LIGHT      9\n",
      "3   Australia        BAKING SET 9 PIECE RETROSPOT      8\n",
      "4   Australia          BAKING SET SPACEBOY DESIGN      8\n",
      "5   Australia    HANGING HEART JAR T-LIGHT HOLDER      8\n",
      "6   Australia           LUNCH BAG SPACEBOY DESIGN      8\n",
      "7   Australia             PAPER BUNTING RETROSPOT      8\n",
      "8   Australia                       PARTY BUNTING      8\n",
      "9   Australia     ROSES REGENCY TEACUP AND SAUCER      8\n",
      "10    Austria                             POSTAGE     14\n",
      "11    Austria     RETROSPOT TEA SET CERAMIC 11 PC      4\n",
      "12    Austria   ROUND SNACK BOXES SET OF 4 FRUITS      4\n",
      "13    Austria  ROUND SNACK BOXES SET OF4 WOODLAND      4\n",
      "14    Austria           BREAD BIN DINER STYLE RED      3\n",
      "15    Austria            DOLLY GIRL BABY GIFT SET      3\n",
      "16    Austria                DOLLY GIRL LUNCH BOX      3\n",
      "17    Austria    LUNCH BOX WITH CUTLERY RETROSPOT      3\n",
      "18    Austria       PLASTERS IN TIN CIRCUS PARADE      3\n",
      "19    Austria     PLASTERS IN TIN VINTAGE PAISLEY      3\n"
     ]
    }
   ],
   "source": [
    "#Step 4: Identify Country-wise Popular Products\n",
    "country_popular_products = data.groupby('Country')['Description'].value_counts().groupby(level=0).nlargest(10).reset_index(level=0, drop=True).reset_index()\n",
    "print(\"Country-wise Popular Products:\")\n",
    "print(country_popular_products.head(20)) "
   ]
  },
  {
   "cell_type": "code",
   "execution_count": 93,
   "id": "cae0058b-f967-4349-ae4a-7abc142c2fe6",
   "metadata": {},
   "outputs": [
    {
     "name": "stdin",
     "output_type": "stream",
     "text": [
      "Enter country name:  austria\n"
     ]
    },
    {
     "data": {
      "image/png": "[encoded data removed]",
      "text/plain": [
       "<Figure size 1000x600 with 1 Axes>"
      ]
     },
     "metadata": {},
     "output_type": "display_data"
    }
   ],
   "source": [
    "#Plot country-wise popular products for a specific country\n",
    "country = input('Enter country name: ').capitalize()  # enter country from dataset\n",
    "if country not in data['Country'].unique():\n",
    "            print( f\"Country name '{country}' not found in the data. check the country name.\")\n",
    "    \n",
    "popular_products = country_popular_products[country_popular_products['Country'] == country]\n",
    "plt.figure(figsize=(10, 6))\n",
    "sns.barplot(x=popular_products['Description'].value_counts().values, \n",
    "            y=popular_products['Description'].value_counts().index )\n",
    "plt.title(f'Top 10 Popular Products in {country}')\n",
    "plt.xlabel('Quantity Sold')\n",
    "plt.ylabel('Product Description')\n",
    "plt.show()"
   ]
  },
  {
   "cell_type": "code",
   "execution_count": 95,
   "id": "a12226e6-e743-43bf-add6-cf216d4cfa0d",
   "metadata": {},
   "outputs": [],
   "source": [
    "#Step 5: Identifying Month-wise Popular Products\n",
    "\n",
    "#Convert InvoiceDate to datetime\n",
    "data['InvoiceDate'] = pd.to_datetime(data['InvoiceDate'])"
   ]
  },
  {
   "cell_type": "code",
   "execution_count": 97,
   "id": "40abdb69-8c2f-461c-bcd1-7bb39d726d65",
   "metadata": {},
   "outputs": [],
   "source": [
    "#Extract month and year from InvoiceDate\n",
    "data['MonthYear'] = data['InvoiceDate'].dt.to_period('M')"
   ]
  },
  {
   "cell_type": "code",
   "execution_count": 99,
   "id": "1bfb5951-c557-4edd-8208-19fc88692f8a",
   "metadata": {},
   "outputs": [
    {
     "name": "stdout",
     "output_type": "stream",
     "text": [
      "Month-wise Popular Products:\n",
      "   MonthYear                         Description  count\n",
      "0    2010-12  WHITE HANGING HEART T-LIGHT HOLDER    213\n",
      "1    2010-12            REGENCY CAKESTAND 3 TIER    153\n",
      "2    2010-12         HAND WARMER BABUSHKA DESIGN    141\n",
      "3    2010-12      PAPER CHAIN KIT 50'S CHRISTMAS    137\n",
      "4    2010-12        SCOTTIE DOG HOT WATER BOTTLE    130\n",
      "5    2010-12          CHOCOLATE HOT WATER BOTTLE    123\n",
      "6    2010-12               HEART OF WICKER SMALL    107\n",
      "7    2010-12           HOT WATER BOTTLE BABUSHKA    107\n",
      "8    2010-12              JAM MAKING SET PRINTED    107\n",
      "9    2010-12   PAPER CHAIN KIT VINTAGE CHRISTMAS    106\n",
      "10   2011-01  WHITE HANGING HEART T-LIGHT HOLDER    164\n",
      "11   2011-01    SET OF 3 CAKE TINS PANTRY DESIGN    137\n",
      "12   2011-01            REGENCY CAKESTAND 3 TIER    132\n",
      "13   2011-01               HEART OF WICKER SMALL    119\n",
      "14   2011-01      NATURAL SLATE HEART CHALKBOARD     96\n",
      "15   2011-01       SET OF 3 HEART COOKIE CUTTERS     95\n",
      "16   2011-01    RED HANGING HEART T-LIGHT HOLDER     91\n",
      "17   2011-01            JAM MAKING SET WITH JARS     89\n",
      "18   2011-01               HEART OF WICKER LARGE     86\n",
      "19   2011-01   SET OF 6 SPICE TINS PANTRY DESIGN     84\n"
     ]
    }
   ],
   "source": [
    "month_popular_products = data.groupby('MonthYear')['Description'].value_counts().groupby(level=0).nlargest(10).reset_index(level=0, drop=True).reset_index()\n",
    "print(\"Month-wise Popular Products:\")\n",
    "print(month_popular_products.head(20))"
   ]
  },
  {
   "cell_type": "code",
   "execution_count": 101,
   "id": "b88d7ac8-8291-4874-a0ef-7a67d5b0112c",
   "metadata": {},
   "outputs": [
    {
     "name": "stdin",
     "output_type": "stream",
     "text": [
      "Enter year and month (yyyy-mm):  2011-01\n"
     ]
    },
    {
     "data": {
      "image/png": "[encoded data removed]",
      "text/plain": [
       "<Figure size 1000x600 with 1 Axes>"
      ]
     },
     "metadata": {},
     "output_type": "display_data"
    }
   ],
   "source": [
    "#Plot month-wise popular products for a specific month\n",
    "specific_month = input('Enter year and month (yyyy-mm): ')\n",
    "if specific_month not in data['MonthYear'].unique():\n",
    "            print( f\"Year and month not'{specific_month}' found in the data. check the year and month.\")\n",
    "monthly_popular_products = month_popular_products[month_popular_products['MonthYear'] == specific_month]\n",
    "plt.figure(figsize=(10, 6))\n",
    "sns.barplot(x=monthly_popular_products['Description'].value_counts().values, \n",
    "            y=monthly_popular_products['Description'].value_counts().index)\n",
    "plt.title(f'Top 10 Popular Products in {specific_month}')\n",
    "plt.xlabel('Quantity Sold')\n",
    "plt.ylabel('Product Description')\n",
    "plt.show()"
   ]
  },
  {
   "cell_type": "markdown",
   "id": "4a686247-7521-4b73-9045-ac08676e890c",
   "metadata": {},
   "source": [
    "**Getting product recommedations for customer**"
   ]
  },
  {
   "cell_type": "markdown",
   "id": "35d815d0-51b3-459a-b06b-5b8ba7f3e78d",
   "metadata": {},
   "source": [
    "Here I use collaborative filtering using the surprise library for getting recommendations"
   ]
  },
  {
   "cell_type": "code",
   "execution_count": 103,
   "id": "28ca8a85-5097-498d-9524-cd26c0cbdce1",
   "metadata": {},
   "outputs": [],
   "source": [
    "#Step 1: Importing necessary library\n",
    "from surprise import Dataset, Reader, SVD \n",
    "from surprise.model_selection import cross_validate "
   ]
  },
  {
   "cell_type": "code",
   "execution_count": 104,
   "id": "1fea3d79-8f4f-4282-9494-5c841ca48b17",
   "metadata": {},
   "outputs": [],
   "source": [
    "#Creating a Reader object and specifying the rating scale\n",
    "reader = Reader(rating_scale=(0, data['Quantity'].max()))"
   ]
  },
  {
   "cell_type": "code",
   "execution_count": 105,
   "id": "82219582-9e64-4bed-aee5-338a3295e0db",
   "metadata": {},
   "outputs": [],
   "source": [
    "#Creating the dataset from the pandas dataframe\n",
    "data_for_surprise = Dataset.load_from_df(data[['CustomerID', 'StockCode', 'Quantity']], reader)"
   ]
  },
  {
   "cell_type": "code",
   "execution_count": 109,
   "id": "e877a76f-9086-4735-a824-8db2eb970e15",
   "metadata": {},
   "outputs": [],
   "source": [
    "#Using the Singular value decomposition (SVD) algorithm for collaborative filtering\n",
    "algo = SVD()"
   ]
  },
  {
   "cell_type": "code",
   "execution_count": 111,
   "id": "26105c0f-8a84-47d8-8ded-c78ef7ef7f92",
   "metadata": {},
   "outputs": [
    {
     "name": "stdout",
     "output_type": "stream",
     "text": [
      "Evaluating RMSE, MAE of algorithm SVD on 5 split(s).\n",
      "\n",
      "                  Fold 1  Fold 2  Fold 3  Fold 4  Fold 5  Mean    Std     \n",
      "RMSE (testset)    80982.261480984.513580983.805580982.470480982.966680983.20350.8438  \n",
      "MAE (testset)     80981.814280984.078680982.777080982.458280982.955780982.81670.7412  \n",
      "Fit time          2.98    3.07    3.22    3.04    3.03    3.07    0.08    \n",
      "Test time         0.64    0.34    0.55    0.51    0.63    0.53    0.11    \n"
     ]
    },
    {
     "data": {
      "text/plain": [
       "{'test_rmse': array([80982.26143101, 80984.51352719, 80983.80545102, 80982.47039541,\n",
       "        80982.96659102]),\n",
       " 'test_mae': array([80981.81415819, 80984.07858468, 80982.77700726, 80982.45819898,\n",
       "        80982.95568974]),\n",
       " 'fit_time': (2.9794485569000244,\n",
       "  3.067841053009033,\n",
       "  3.223778247833252,\n",
       "  3.0433733463287354,\n",
       "  3.025991439819336),\n",
       " 'test_time': (0.6426393985748291,\n",
       "  0.34101009368896484,\n",
       "  0.5457763671875,\n",
       "  0.5076525211334229,\n",
       "  0.6278979778289795)}"
      ]
     },
     "execution_count": 111,
     "metadata": {},
     "output_type": "execute_result"
    }
   ],
   "source": [
    "#Evaluating the algorithm with cross-validation\n",
    "cross_validate(algo, data_for_surprise, measures=['RMSE', 'MAE'], cv=5, verbose=True)"
   ]
  },
  {
   "cell_type": "code",
   "execution_count": 113,
   "id": "8b20c156-cc55-4118-861e-e04c5bb0866a",
   "metadata": {},
   "outputs": [
    {
     "data": {
      "text/plain": [
       "<surprise.prediction_algorithms.matrix_factorization.SVD at 0x1b1815a4ad0>"
      ]
     },
     "execution_count": 113,
     "metadata": {},
     "output_type": "execute_result"
    }
   ],
   "source": [
    "#Training the model on the entire dataset\n",
    "trainset = data_for_surprise.build_full_trainset()\n",
    "algo.fit(trainset)"
   ]
  },
  {
   "cell_type": "code",
   "execution_count": 114,
   "id": "05b5a1a8-36db-467a-bfdd-4aca21750b58",
   "metadata": {},
   "outputs": [],
   "source": [
    "#Function to get top n recommendations for a given customer\n",
    "\n",
    "def top_recommendations(customer_id, n=15):\n",
    "\n",
    "    customer_id = float(customer_id)\n",
    "    \n",
    "    #list of all products\n",
    "    all_products = data['Description'].unique()\n",
    "    \n",
    "    #list of products the customer has already bought\n",
    "    purchased_products = data[data['CustomerID'] == customer_id]['Description'].unique()\n",
    "    \n",
    "    #list of products the customer has not bought yet \n",
    "    products_to_predict = [product_description for product_description in all_products if product_description not in purchased_products] \n",
    "    \n",
    "    # Predict the ratings for all products the customer has not bought yet\n",
    "    predictions = [algo.predict(customer_id, product_description) for product_description in products_to_predict]\n",
    "    \n",
    "    # Sort the predictions by estimated rating\n",
    "    predictions.sort(key=lambda x: x.est)\n",
    "        \n",
    "    # top N recommendations\n",
    "    top_recommendations = [pred.iid for pred in predictions[:n]]\n",
    "    \n",
    "    return top_recommendations"
   ]
  },
  {
   "cell_type": "code",
   "execution_count": 117,
   "id": "9f313680-1ffa-47c2-a4e8-4568326eab2b",
   "metadata": {},
   "outputs": [
    {
     "name": "stdin",
     "output_type": "stream",
     "text": [
      "Enter the Customer ID 18283\n"
     ]
    },
    {
     "name": "stdout",
     "output_type": "stream",
     "text": [
      "\n",
      "Top 10 recommendated products for 18283.0:\n",
      "\n",
      "WHITE METAL LANTERN\n",
      "CREAM CUPID HEARTS COAT HANGER\n",
      "KNITTED UNION FLAG HOT WATER BOTTLE\n",
      "RED WOOLLY HOTTIE WHITE HEART.\n",
      "SET 7 BABUSHKA NESTING BOXES\n"
     ]
    }
   ],
   "source": [
    "customer_id = float(input('Enter the Customer ID'))\n",
    "if customer_id not in data['CustomerID'].unique():\n",
    "            print(f\"Customer ID {customer_id} not found in the data.\")\n",
    "else:\n",
    "    top_product_recommendations = top_recommendations(customer_id, n=5)\n",
    "    print(f'\\nTop 10 recommendated products for {customer_id}:\\n')\n",
    "\n",
    "    for product in top_product_recommendations:\n",
    "        print(product)"
   ]
  },
  {
   "cell_type": "code",
   "execution_count": 119,
   "id": "faeb6f68-3d4b-43ce-ac95-2862dba9c90e",
   "metadata": {},
   "outputs": [
    {
     "name": "stdin",
     "output_type": "stream",
     "text": [
      "Enter the Customer ID 12345\n"
     ]
    },
    {
     "name": "stdout",
     "output_type": "stream",
     "text": [
      "Customer ID 12345.0 not found in the data.\n"
     ]
    }
   ],
   "source": [
    "customer_id = float(input('Enter the Customer ID'))\n",
    "if customer_id not in data['CustomerID'].unique():\n",
    "            print(f\"Customer ID {customer_id} not found in the data.\")\n",
    "else:\n",
    "    top_product_recommendations = top_recommendations(customer_id, n=5)\n",
    "    print(f'\\nTop 10 recommendated products for {customer_id}:\\n')\n",
    "\n",
    "    for product in top_product_recommendations:\n",
    "        print(product)"
   ]
  },
  {
   "cell_type": "code",
   "execution_count": null,
   "id": "82e7e7d5-9fc1-4252-b691-75777e23a29f",
   "metadata": {},
   "outputs": [],
   "source": []
  }
 ],
 "metadata": {
  "kernelspec": {
   "display_name": "Python 3 (ipykernel)",
   "language": "python",
   "name": "python3"
  },
  "language_info": {
   "codemirror_mode": {
    "name": "ipython",
    "version": 3
   },
   "file_extension": ".py",
   "mimetype": "text/x-python",
   "name": "python",
   "nbconvert_exporter": "python",
   "pygments_lexer": "ipython3",
   "version": "3.13.1"
  }
 },
 "nbformat": 4,
 "nbformat_minor": 5
}
