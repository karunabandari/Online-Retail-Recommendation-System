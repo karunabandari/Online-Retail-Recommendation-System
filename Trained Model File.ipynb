{
 "cells": [
  {
   "cell_type": "markdown",
   "id": "10831ce3-72c0-42c6-8420-33aad6570564",
   "metadata": {},
   "source": [
    "**Getting product recommedations for customer**"
   ]
  },
  {
   "cell_type": "markdown",
   "id": "801a8d51-d02e-45f2-a2f6-dee0d8cf6e18",
   "metadata": {},
   "source": [
    "Here I use collaborative filtering using the surprise library for getting recommendations"
   ]
  },
  {
   "cell_type": "code",
   "execution_count": 11,
   "id": "cabe7c80-94bc-455c-ae18-ae119207231e",
   "metadata": {},
   "outputs": [],
   "source": [
    "#Step 1: Importing necessary libraries\n",
    "import pandas as pd\n",
    "from surprise import Dataset, Reader, SVD \n",
    "from surprise.model_selection import cross_validate "
   ]
  },
  {
   "cell_type": "code",
   "execution_count": 12,
   "id": "bd3189d0-b829-474c-a951-c9a427630973",
   "metadata": {},
   "outputs": [],
   "source": [
    "#Step 2: Load the dataset into jupyter notebook\n",
    "data = pd.read_csv('OnlineRetail.csv')"
   ]
  },
  {
   "cell_type": "code",
   "execution_count": 15,
   "id": "6ffd0084-b9f4-44e9-91fc-b053f7da56b5",
   "metadata": {},
   "outputs": [
    {
     "data": {
      "text/html": [
       "<div>\n",
       "<style scoped>\n",
       "    .dataframe tbody tr th:only-of-type {\n",
       "        vertical-align: middle;\n",
       "    }\n",
       "\n",
       "    .dataframe tbody tr th {\n",
       "        vertical-align: top;\n",
       "    }\n",
       "\n",
       "    .dataframe thead th {\n",
       "        text-align: right;\n",
       "    }\n",
       "</style>\n",
       "<table border=\"1\" class=\"dataframe\">\n",
       "  <thead>\n",
       "    <tr style=\"text-align: right;\">\n",
       "      <th></th>\n",
       "      <th>InvoiceNo</th>\n",
       "      <th>StockCode</th>\n",
       "      <th>Description</th>\n",
       "      <th>Quantity</th>\n",
       "      <th>InvoiceDate</th>\n",
       "      <th>UnitPrice</th>\n",
       "      <th>CustomerID</th>\n",
       "      <th>Country</th>\n",
       "    </tr>\n",
       "  </thead>\n",
       "  <tbody>\n",
       "    <tr>\n",
       "      <th>0</th>\n",
       "      <td>536365</td>\n",
       "      <td>85123A</td>\n",
       "      <td>WHITE HANGING HEART T-LIGHT HOLDER</td>\n",
       "      <td>6</td>\n",
       "      <td>12/1/2010 8:26</td>\n",
       "      <td>2.55</td>\n",
       "      <td>17850.0</td>\n",
       "      <td>United Kingdom</td>\n",
       "    </tr>\n",
       "    <tr>\n",
       "      <th>1</th>\n",
       "      <td>536365</td>\n",
       "      <td>71053</td>\n",
       "      <td>WHITE METAL LANTERN</td>\n",
       "      <td>6</td>\n",
       "      <td>12/1/2010 8:26</td>\n",
       "      <td>3.39</td>\n",
       "      <td>17850.0</td>\n",
       "      <td>United Kingdom</td>\n",
       "    </tr>\n",
       "    <tr>\n",
       "      <th>2</th>\n",
       "      <td>536365</td>\n",
       "      <td>84406B</td>\n",
       "      <td>CREAM CUPID HEARTS COAT HANGER</td>\n",
       "      <td>8</td>\n",
       "      <td>12/1/2010 8:26</td>\n",
       "      <td>2.75</td>\n",
       "      <td>17850.0</td>\n",
       "      <td>United Kingdom</td>\n",
       "    </tr>\n",
       "    <tr>\n",
       "      <th>3</th>\n",
       "      <td>536365</td>\n",
       "      <td>84029G</td>\n",
       "      <td>KNITTED UNION FLAG HOT WATER BOTTLE</td>\n",
       "      <td>6</td>\n",
       "      <td>12/1/2010 8:26</td>\n",
       "      <td>3.39</td>\n",
       "      <td>17850.0</td>\n",
       "      <td>United Kingdom</td>\n",
       "    </tr>\n",
       "    <tr>\n",
       "      <th>4</th>\n",
       "      <td>536365</td>\n",
       "      <td>84029E</td>\n",
       "      <td>RED WOOLLY HOTTIE WHITE HEART.</td>\n",
       "      <td>6</td>\n",
       "      <td>12/1/2010 8:26</td>\n",
       "      <td>3.39</td>\n",
       "      <td>17850.0</td>\n",
       "      <td>United Kingdom</td>\n",
       "    </tr>\n",
       "  </tbody>\n",
       "</table>\n",
       "</div>"
      ],
      "text/plain": [
       "  InvoiceNo StockCode                          Description  Quantity  \\\n",
       "0    536365    85123A   WHITE HANGING HEART T-LIGHT HOLDER         6   \n",
       "1    536365     71053                  WHITE METAL LANTERN         6   \n",
       "2    536365    84406B       CREAM CUPID HEARTS COAT HANGER         8   \n",
       "3    536365    84029G  KNITTED UNION FLAG HOT WATER BOTTLE         6   \n",
       "4    536365    84029E       RED WOOLLY HOTTIE WHITE HEART.         6   \n",
       "\n",
       "      InvoiceDate  UnitPrice  CustomerID         Country  \n",
       "0  12/1/2010 8:26       2.55     17850.0  United Kingdom  \n",
       "1  12/1/2010 8:26       3.39     17850.0  United Kingdom  \n",
       "2  12/1/2010 8:26       2.75     17850.0  United Kingdom  \n",
       "3  12/1/2010 8:26       3.39     17850.0  United Kingdom  \n",
       "4  12/1/2010 8:26       3.39     17850.0  United Kingdom  "
      ]
     },
     "execution_count": 15,
     "metadata": {},
     "output_type": "execute_result"
    }
   ],
   "source": [
    "#Step 3: Viewing 5 rows of data\n",
    "data.head(5)"
   ]
  },
  {
   "cell_type": "code",
   "execution_count": 19,
   "id": "ab716cdd-ea20-4f2a-831c-c6e22a93227b",
   "metadata": {},
   "outputs": [],
   "source": [
    "#Step 4: Creating a Reader object and specifying the rating scale\n",
    "reader = Reader(rating_scale=(0, data['Quantity'].max()))"
   ]
  },
  {
   "cell_type": "code",
   "execution_count": 23,
   "id": "8d683f62-5d22-48c4-a4af-27f6a896d52a",
   "metadata": {},
   "outputs": [],
   "source": [
    "#Step 5: Creating the dataset from the pandas dataframe\n",
    "data_for_surprise = Dataset.load_from_df(data[['CustomerID', 'StockCode', 'Quantity']], reader)"
   ]
  },
  {
   "cell_type": "code",
   "execution_count": 25,
   "id": "ded29fac-070c-449e-a8f1-684839c7feb4",
   "metadata": {},
   "outputs": [],
   "source": [
    "#Step 6: Using the Singular value decomposition (SVD) algorithm for collaborative filtering\n",
    "algo = SVD()"
   ]
  },
  {
   "cell_type": "code",
   "execution_count": 27,
   "id": "67a2b308-523e-452a-b07a-ea6fc188edd8",
   "metadata": {},
   "outputs": [
    {
     "name": "stdout",
     "output_type": "stream",
     "text": [
      "Evaluating RMSE, MAE of algorithm SVD on 5 split(s).\n",
      "\n",
      "                  Fold 1  Fold 2  Fold 3  Fold 4  Fold 5  Mean    Std     \n",
      "RMSE (testset)    80747.188480757.405180757.478980756.594180742.277480752.18886.2903  \n",
      "MAE (testset)     80509.576580528.749380530.345080528.356680498.772480519.160012.7211 \n",
      "Fit time          5.18    5.39    5.11    4.99    5.03    5.14    0.14    \n",
      "Test time         1.10    0.71    0.92    1.01    0.70    0.89    0.16    \n"
     ]
    },
    {
     "data": {
      "text/plain": [
       "{'test_rmse': array([80747.18841081, 80757.4050995 , 80757.47889524, 80756.59411981,\n",
       "        80742.27740388]),\n",
       " 'test_mae': array([80509.57652417, 80528.74934292, 80530.34502347, 80528.3566206 ,\n",
       "        80498.77239529]),\n",
       " 'fit_time': (5.1846535205841064,\n",
       "  5.390363454818726,\n",
       "  5.112430572509766,\n",
       "  4.992536306381226,\n",
       "  5.032274484634399),\n",
       " 'test_time': (1.101330041885376,\n",
       "  0.707421064376831,\n",
       "  0.9241266250610352,\n",
       "  1.0134682655334473,\n",
       "  0.7025132179260254)}"
      ]
     },
     "execution_count": 27,
     "metadata": {},
     "output_type": "execute_result"
    }
   ],
   "source": [
    "#Step 7: Evaluating the algorithm with cross-validation\n",
    "cross_validate(algo, data_for_surprise, measures=['RMSE', 'MAE'], cv=5, verbose=True)"
   ]
  },
  {
   "cell_type": "code",
   "execution_count": 28,
   "id": "9a28befc-a947-4c0e-9a89-83e436d429e6",
   "metadata": {},
   "outputs": [
    {
     "data": {
      "text/plain": [
       "<surprise.prediction_algorithms.matrix_factorization.SVD at 0x1280a8eb830>"
      ]
     },
     "execution_count": 28,
     "metadata": {},
     "output_type": "execute_result"
    }
   ],
   "source": [
    "#Step 8: Training the model on the entire dataset\n",
    "trainset = data_for_surprise.build_full_trainset()\n",
    "algo.fit(trainset)"
   ]
  },
  {
   "cell_type": "code",
   "execution_count": 31,
   "id": "73e43eda-47df-4f73-949b-f684143626e5",
   "metadata": {},
   "outputs": [],
   "source": [
    "#Step 9: Function to get top n recommendations for a given customer\n",
    "\n",
    "def top_recommendations(customer_id, n=15):\n",
    "\n",
    "    customer_id = float(customer_id)\n",
    "    \n",
    "    #list of all products\n",
    "    all_products = data['Description'].unique()\n",
    "    \n",
    "    #list of products the customer has already bought\n",
    "    purchased_products = data[data['CustomerID'] == customer_id]['Description'].unique()\n",
    "    \n",
    "    #list of products the customer has not bought yet \n",
    "    products_to_predict = [product_description for product_description in all_products if product_description not in purchased_products] \n",
    "    \n",
    "    # Predict the ratings for all products the customer has not bought yet\n",
    "    predictions = [algo.predict(customer_id, product_description) for product_description in products_to_predict]\n",
    "    \n",
    "    # Sort the predictions by estimated rating\n",
    "    predictions.sort(key=lambda x: x.est)\n",
    "        \n",
    "    # top N recommendations\n",
    "    top_recommendations = [pred.iid for pred in predictions[:n]]\n",
    "    \n",
    "    return top_recommendations"
   ]
  },
  {
   "cell_type": "code",
   "execution_count": 33,
   "id": "29c234a3-ee51-4859-b6da-214901ae6b3a",
   "metadata": {},
   "outputs": [
    {
     "name": "stdin",
     "output_type": "stream",
     "text": [
      "Enter the Customer ID 123456\n"
     ]
    },
    {
     "name": "stdout",
     "output_type": "stream",
     "text": [
      "Customer ID 123456.0 not found in the data.\n"
     ]
    }
   ],
   "source": [
    "#Step 10: Getting the recommendated product list\n",
    "\n",
    "customer_id = float(input('Enter the Customer ID'))\n",
    "if customer_id not in data['CustomerID'].unique():\n",
    "            print(f\"Customer ID {customer_id} not found in the data.\")\n",
    "else:\n",
    "    top_product_recommendations = top_recommendations(customer_id, n=5)\n",
    "    print(f'\\nTop 10 recommendated products for {customer_id}:\\n')\n",
    "\n",
    "    for product in top_product_recommendations:\n",
    "        print(product)"
   ]
  },
  {
   "cell_type": "code",
   "execution_count": 35,
   "id": "ebc19621-efcc-4869-82e8-89339d90222f",
   "metadata": {},
   "outputs": [
    {
     "name": "stdin",
     "output_type": "stream",
     "text": [
      "Enter the Customer ID 18283\n"
     ]
    },
    {
     "name": "stdout",
     "output_type": "stream",
     "text": [
      "\n",
      "Top 10 recommendated products for 18283.0:\n",
      "\n",
      "WHITE METAL LANTERN\n",
      "CREAM CUPID HEARTS COAT HANGER\n",
      "KNITTED UNION FLAG HOT WATER BOTTLE\n",
      "RED WOOLLY HOTTIE WHITE HEART.\n",
      "SET 7 BABUSHKA NESTING BOXES\n"
     ]
    }
   ],
   "source": [
    "customer_id = float(input('Enter the Customer ID'))\n",
    "if customer_id not in data['CustomerID'].unique():\n",
    "            print(f\"Customer ID {customer_id} not found in the data.\")\n",
    "else:\n",
    "    top_product_recommendations = top_recommendations(customer_id, n=5)\n",
    "    print(f'\\nTop 10 recommendated products for {customer_id}:\\n')\n",
    "\n",
    "    for product in top_product_recommendations:\n",
    "        print(product)"
   ]
  },
  {
   "cell_type": "code",
   "execution_count": null,
   "id": "ea4db3d7-f1e8-49b6-9db6-fc781a860984",
   "metadata": {},
   "outputs": [],
   "source": []
  }
 ],
 "metadata": {
  "kernelspec": {
   "display_name": "Python 3 (ipykernel)",
   "language": "python",
   "name": "python3"
  },
  "language_info": {
   "codemirror_mode": {
    "name": "ipython",
    "version": 3
   },
   "file_extension": ".py",
   "mimetype": "text/x-python",
   "name": "python",
   "nbconvert_exporter": "python",
   "pygments_lexer": "ipython3",
   "version": "3.13.1"
  }
 },
 "nbformat": 4,
 "nbformat_minor": 5
}
